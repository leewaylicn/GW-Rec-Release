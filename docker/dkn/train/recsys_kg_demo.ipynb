{
 "cells": [
  {
   "cell_type": "code",
   "execution_count": 1,
   "metadata": {},
   "outputs": [],
   "source": [
    "# test sagemaker mode\n",
    "import sagemaker\n",
    "from sagemaker.tensorflow import TensorFlow\n",
    "\n",
    "# train_instance_type = 'local'\n",
    "train_instance_type = 'ml.p3.2xlarge'\n",
    "\n",
    "hyperparameters = {'learning_rate': 0.0001,  \n",
    "                   'servable_model_dir': '/opt/ml/model', \n",
    "                   'loss_weight': 1.0,\n",
    "                   'use_context': False, \n",
    "                   'max_click_history': 8,  \n",
    "                   'num_epochs': 10,\n",
    "                   'max_title_length': 16,  \n",
    "                   'entity_dim': 128,  \n",
    "                   'word_dim': 300,  \n",
    "                   'batch_size': 128,  \n",
    "                   'perform_shuffle': 1, \n",
    "#                    'checkpointPath': '/opt/ml/input',\n",
    "                   'checkpointPath': '/opt/ml/input/data'}\n",
    "\n",
    "local_estimator = TensorFlow(\n",
    "                       entry_point='embed_dkn.py',\n",
    "#                        model_dir = '/opt/ml/model',\n",
    "#                        checkpoint_local_path='/opt/ml/input/data',\n",
    "                       model_dir = False,\n",
    "                       source_dir = 'recsys_tools/recsys_kg/',\n",
    "                       instance_type=train_instance_type,\n",
    "                       volume_size=500,\n",
    "                       instance_count=1,\n",
    "                       hyperparameters=hyperparameters,\n",
    "                       role=sagemaker.get_execution_role(),\n",
    "                       base_job_name='tf-scriptmode-embed-dkn',\n",
    "                       framework_version='1.15',\n",
    "                    #    distributions=distributions,\n",
    "                       py_version='py3')"
   ]
  },
  {
   "cell_type": "code",
   "execution_count": 2,
   "metadata": {},
   "outputs": [],
   "source": [
    "# import os\n",
    "# print(os.getcwd())\n",
    "# raw_dir = os.path.join(os.getcwd())\n",
    "# train_dir = os.path.join(raw_dir, 'train')\n",
    "# test_dir = os.path.join(raw_dir, 'test')\n",
    "\n",
    "# inputs = {'train': f'file://{train_dir}' , 'eval':  f'file://{test_dir}'}"
   ]
  },
  {
   "cell_type": "code",
   "execution_count": 3,
   "metadata": {},
   "outputs": [],
   "source": [
    "train_s3 = \"s3://autorec-great-wisdom/train.csv/\"\n",
    "test_s3 = \"s3://autorec-great-wisdom/test.csv/\"\n",
    "inputs = {'train': train_s3 , 'eval': test_s3}"
   ]
  },
  {
   "cell_type": "code",
   "execution_count": 4,
   "metadata": {},
   "outputs": [
    {
     "name": "stdout",
     "output_type": "stream",
     "text": [
      "2020-11-11 06:20:39 Starting - Starting the training job...\n",
      "2020-11-11 06:20:43 Starting - Launching requested ML instances.........\n",
      "2020-11-11 06:22:16 Starting - Preparing the instances for training......\n",
      "2020-11-11 06:23:28 Downloading - Downloading input data...\n",
      "2020-11-11 06:24:02 Training - Downloading the training image......\n",
      "2020-11-11 06:25:03 Training - Training image download completed. Training in progress......\u001b[34mWARNING:tensorflow:From /usr/local/lib/python3.6/dist-packages/tensorflow_core/__init__.py:1473: The name tf.estimator.inputs is deprecated. Please use tf.compat.v1.estimator.inputs instead.\n",
      "\u001b[0m\n",
      "\u001b[34m2020-11-11 06:25:10,765 sagemaker-training-toolkit INFO     Imported framework sagemaker_tensorflow_container.training\u001b[0m\n",
      "\u001b[34m2020-11-11 06:25:11,776 sagemaker-training-toolkit INFO     Invoking user script\n",
      "\u001b[0m\n",
      "\u001b[34mTraining Env:\n",
      "\u001b[0m\n",
      "\u001b[34m{\n",
      "    \"additional_framework_parameters\": {},\n",
      "    \"channel_input_dirs\": {\n",
      "        \"eval\": \"/opt/ml/input/data/eval\",\n",
      "        \"train\": \"/opt/ml/input/data/train\"\n",
      "    },\n",
      "    \"current_host\": \"algo-1\",\n",
      "    \"framework_module\": \"sagemaker_tensorflow_container.training:main\",\n",
      "    \"hosts\": [\n",
      "        \"algo-1\"\n",
      "    ],\n",
      "    \"hyperparameters\": {\n",
      "        \"batch_size\": 128,\n",
      "        \"word_dim\": 300,\n",
      "        \"loss_weight\": 1.0,\n",
      "        \"perform_shuffle\": 1,\n",
      "        \"entity_dim\": 128,\n",
      "        \"max_title_length\": 16,\n",
      "        \"checkpointPath\": \"/opt/ml/checkpoints\",\n",
      "        \"max_click_history\": 30,\n",
      "        \"servable_model_dir\": \"/opt/ml/model\",\n",
      "        \"model_dir\": \"/opt/ml/model\",\n",
      "        \"learning_rate\": 0.0001,\n",
      "        \"use_context\": true,\n",
      "        \"num_epochs\": 1\n",
      "    },\n",
      "    \"input_config_dir\": \"/opt/ml/input/config\",\n",
      "    \"input_data_config\": {\n",
      "        \"eval\": {\n",
      "            \"TrainingInputMode\": \"File\",\n",
      "            \"S3DistributionType\": \"FullyReplicated\",\n",
      "            \"RecordWrapperType\": \"None\"\n",
      "        },\n",
      "        \"train\": {\n",
      "            \"TrainingInputMode\": \"File\",\n",
      "            \"S3DistributionType\": \"FullyReplicated\",\n",
      "            \"RecordWrapperType\": \"None\"\n",
      "        }\n",
      "    },\n",
      "    \"input_dir\": \"/opt/ml/input\",\n",
      "    \"is_master\": true,\n",
      "    \"job_name\": \"tf-scriptmode-embed-dkn-2020-11-11-06-20-39-069\",\n",
      "    \"log_level\": 20,\n",
      "    \"master_hostname\": \"algo-1\",\n",
      "    \"model_dir\": \"/opt/ml/model\",\n",
      "    \"module_dir\": \"s3://sagemaker-us-east-1-002224604296/tf-scriptmode-embed-dkn-2020-11-11-06-20-39-069/source/sourcedir.tar.gz\",\n",
      "    \"module_name\": \"embed_dkn\",\n",
      "    \"network_interface_name\": \"eth0\",\n",
      "    \"num_cpus\": 8,\n",
      "    \"num_gpus\": 1,\n",
      "    \"output_data_dir\": \"/opt/ml/output/data\",\n",
      "    \"output_dir\": \"/opt/ml/output\",\n",
      "    \"output_intermediate_dir\": \"/opt/ml/output/intermediate\",\n",
      "    \"resource_config\": {\n",
      "        \"current_host\": \"algo-1\",\n",
      "        \"hosts\": [\n",
      "            \"algo-1\"\n",
      "        ],\n",
      "        \"network_interface_name\": \"eth0\"\n",
      "    },\n",
      "    \"user_entry_point\": \"embed_dkn.py\"\u001b[0m\n",
      "\u001b[34m}\n",
      "\u001b[0m\n",
      "\u001b[34mEnvironment variables:\n",
      "\u001b[0m\n",
      "\u001b[34mSM_HOSTS=[\"algo-1\"]\u001b[0m\n",
      "\u001b[34mSM_NETWORK_INTERFACE_NAME=eth0\u001b[0m\n",
      "\u001b[34mSM_HPS={\"batch_size\":128,\"checkpointPath\":\"/opt/ml/checkpoints\",\"entity_dim\":128,\"learning_rate\":0.0001,\"loss_weight\":1.0,\"max_click_history\":30,\"max_title_length\":16,\"model_dir\":\"/opt/ml/model\",\"num_epochs\":1,\"perform_shuffle\":1,\"servable_model_dir\":\"/opt/ml/model\",\"use_context\":true,\"word_dim\":300}\u001b[0m\n",
      "\u001b[34mSM_USER_ENTRY_POINT=embed_dkn.py\u001b[0m\n",
      "\u001b[34mSM_FRAMEWORK_PARAMS={}\u001b[0m\n",
      "\u001b[34mSM_RESOURCE_CONFIG={\"current_host\":\"algo-1\",\"hosts\":[\"algo-1\"],\"network_interface_name\":\"eth0\"}\u001b[0m\n",
      "\u001b[34mSM_INPUT_DATA_CONFIG={\"eval\":{\"RecordWrapperType\":\"None\",\"S3DistributionType\":\"FullyReplicated\",\"TrainingInputMode\":\"File\"},\"train\":{\"RecordWrapperType\":\"None\",\"S3DistributionType\":\"FullyReplicated\",\"TrainingInputMode\":\"File\"}}\u001b[0m\n",
      "\u001b[34mSM_OUTPUT_DATA_DIR=/opt/ml/output/data\u001b[0m\n",
      "\u001b[34mSM_CHANNELS=[\"eval\",\"train\"]\u001b[0m\n",
      "\u001b[34mSM_CURRENT_HOST=algo-1\u001b[0m\n",
      "\u001b[34mSM_MODULE_NAME=embed_dkn\u001b[0m\n",
      "\u001b[34mSM_LOG_LEVEL=20\u001b[0m\n",
      "\u001b[34mSM_FRAMEWORK_MODULE=sagemaker_tensorflow_container.training:main\u001b[0m\n",
      "\u001b[34mSM_INPUT_DIR=/opt/ml/input\u001b[0m\n",
      "\u001b[34mSM_INPUT_CONFIG_DIR=/opt/ml/input/config\u001b[0m\n",
      "\u001b[34mSM_OUTPUT_DIR=/opt/ml/output\u001b[0m\n",
      "\u001b[34mSM_NUM_CPUS=8\u001b[0m\n",
      "\u001b[34mSM_NUM_GPUS=1\u001b[0m\n",
      "\u001b[34mSM_MODEL_DIR=/opt/ml/model\u001b[0m\n",
      "\u001b[34mSM_MODULE_DIR=s3://sagemaker-us-east-1-002224604296/tf-scriptmode-embed-dkn-2020-11-11-06-20-39-069/source/sourcedir.tar.gz\u001b[0m\n",
      "\u001b[34mSM_TRAINING_ENV={\"additional_framework_parameters\":{},\"channel_input_dirs\":{\"eval\":\"/opt/ml/input/data/eval\",\"train\":\"/opt/ml/input/data/train\"},\"current_host\":\"algo-1\",\"framework_module\":\"sagemaker_tensorflow_container.training:main\",\"hosts\":[\"algo-1\"],\"hyperparameters\":{\"batch_size\":128,\"checkpointPath\":\"/opt/ml/checkpoints\",\"entity_dim\":128,\"learning_rate\":0.0001,\"loss_weight\":1.0,\"max_click_history\":30,\"max_title_length\":16,\"model_dir\":\"/opt/ml/model\",\"num_epochs\":1,\"perform_shuffle\":1,\"servable_model_dir\":\"/opt/ml/model\",\"use_context\":true,\"word_dim\":300},\"input_config_dir\":\"/opt/ml/input/config\",\"input_data_config\":{\"eval\":{\"RecordWrapperType\":\"None\",\"S3DistributionType\":\"FullyReplicated\",\"TrainingInputMode\":\"File\"},\"train\":{\"RecordWrapperType\":\"None\",\"S3DistributionType\":\"FullyReplicated\",\"TrainingInputMode\":\"File\"}},\"input_dir\":\"/opt/ml/input\",\"is_master\":true,\"job_name\":\"tf-scriptmode-embed-dkn-2020-11-11-06-20-39-069\",\"log_level\":20,\"master_hostname\":\"algo-1\",\"model_dir\":\"/opt/ml/model\",\"module_dir\":\"s3://sagemaker-us-east-1-002224604296/tf-scriptmode-embed-dkn-2020-11-11-06-20-39-069/source/sourcedir.tar.gz\",\"module_name\":\"embed_dkn\",\"network_interface_name\":\"eth0\",\"num_cpus\":8,\"num_gpus\":1,\"output_data_dir\":\"/opt/ml/output/data\",\"output_dir\":\"/opt/ml/output\",\"output_intermediate_dir\":\"/opt/ml/output/intermediate\",\"resource_config\":{\"current_host\":\"algo-1\",\"hosts\":[\"algo-1\"],\"network_interface_name\":\"eth0\"},\"user_entry_point\":\"embed_dkn.py\"}\u001b[0m\n",
      "\u001b[34mSM_USER_ARGS=[\"--batch_size\",\"128\",\"--checkpointPath\",\"/opt/ml/checkpoints\",\"--entity_dim\",\"128\",\"--learning_rate\",\"0.0001\",\"--loss_weight\",\"1.0\",\"--max_click_history\",\"30\",\"--max_title_length\",\"16\",\"--model_dir\",\"/opt/ml/model\",\"--num_epochs\",\"1\",\"--perform_shuffle\",\"1\",\"--servable_model_dir\",\"/opt/ml/model\",\"--use_context\",\"True\",\"--word_dim\",\"300\"]\u001b[0m\n",
      "\u001b[34mSM_OUTPUT_INTERMEDIATE_DIR=/opt/ml/output/intermediate\u001b[0m\n",
      "\u001b[34mSM_CHANNEL_EVAL=/opt/ml/input/data/eval\u001b[0m\n",
      "\u001b[34mSM_CHANNEL_TRAIN=/opt/ml/input/data/train\u001b[0m\n",
      "\u001b[34mSM_HP_BATCH_SIZE=128\u001b[0m\n",
      "\u001b[34mSM_HP_WORD_DIM=300\u001b[0m\n",
      "\u001b[34mSM_HP_LOSS_WEIGHT=1.0\u001b[0m\n",
      "\u001b[34mSM_HP_PERFORM_SHUFFLE=1\u001b[0m\n",
      "\u001b[34mSM_HP_ENTITY_DIM=128\u001b[0m\n",
      "\u001b[34mSM_HP_MAX_TITLE_LENGTH=16\u001b[0m\n",
      "\u001b[34mSM_HP_CHECKPOINTPATH=/opt/ml/checkpoints\u001b[0m\n",
      "\u001b[34mSM_HP_MAX_CLICK_HISTORY=30\u001b[0m\n",
      "\u001b[34mSM_HP_SERVABLE_MODEL_DIR=/opt/ml/model\u001b[0m\n",
      "\u001b[34mSM_HP_MODEL_DIR=/opt/ml/model\u001b[0m\n",
      "\u001b[34mSM_HP_LEARNING_RATE=0.0001\u001b[0m\n",
      "\u001b[34mSM_HP_USE_CONTEXT=true\u001b[0m\n",
      "\u001b[34mSM_HP_NUM_EPOCHS=1\u001b[0m\n",
      "\u001b[34mPYTHONPATH=/opt/ml/code:/usr/local/bin:/usr/lib/python36.zip:/usr/lib/python3.6:/usr/lib/python3.6/lib-dynload:/usr/local/lib/python3.6/dist-packages:/usr/lib/python3/dist-packages\n",
      "\u001b[0m\n",
      "\u001b[34mInvoking script with the following command:\n",
      "\u001b[0m\n",
      "\u001b[34m/usr/bin/python3 embed_dkn.py --batch_size 128 --checkpointPath /opt/ml/checkpoints --entity_dim 128 --learning_rate 0.0001 --loss_weight 1.0 --max_click_history 30 --max_title_length 16 --model_dir /opt/ml/model --num_epochs 1 --perform_shuffle 1 --servable_model_dir /opt/ml/model --use_context True --word_dim 300\n",
      "\n",
      "\u001b[0m\n",
      "\u001b[34mcheck input params: \u001b[0m\n",
      "\u001b[34m['embed_dkn.py', '--batch_size', '128', '--checkpointPath', '/opt/ml/checkpoints', '--entity_dim', '128', '--learning_rate', '0.0001', '--loss_weight', '1.0', '--max_click_history', '30', '--max_title_length', '16', '--model_dir', '/opt/ml/model', '--num_epochs', '1', '--perform_shuffle', '1', '--servable_model_dir', '/opt/ml/model', '--use_context', 'True', '--word_dim', '300']\u001b[0m\n",
      "\u001b[34mtask_type  train\u001b[0m\n",
      "\u001b[34mmodel_dir  /opt/ml/model\u001b[0m\n",
      "\u001b[34mcheckpoint_dir  /opt/ml/checkpoints\u001b[0m\n",
      "\u001b[34mdata_dir  \u001b[0m\n",
      "\u001b[34mdt_dir  20201110\u001b[0m\n",
      "\u001b[34mnum_epochs  1\u001b[0m\n",
      "\u001b[34mbatch_size  128\u001b[0m\n",
      "\u001b[34mloss_type  log_loss\u001b[0m\n",
      "\u001b[34moptimizer  Adam\u001b[0m\n",
      "\u001b[34mlearning_rate  0.0001\u001b[0m\n",
      "\u001b[34membed_l2  1e-05\u001b[0m\n",
      "\u001b[34mlayer_l2  0.001\u001b[0m\n",
      "\u001b[34mshuffle  1\u001b[0m\n",
      "\u001b[34mtrain dir is /opt/ml/input/data/train\u001b[0m\n",
      "\u001b[34meval dir is /opt/ml/input/data/eval\u001b[0m\n",
      "\u001b[34mtr_files: ['/opt/ml/input/data/train/part-00022-825b9cb0-4804-4920-b43a-d603ba433067-c000.csv', '/opt/ml/input/data/train/part-00004-825b9cb0-4804-4920-b43a-d603ba433067-c000.csv', '/opt/ml/input/data/train/part-00019-825b9cb0-4804-4920-b43a-d603ba433067-c000.csv', '/opt/ml/input/data/train/part-00024-825b9cb0-4804-4920-b43a-d603ba433067-c000.csv', '/opt/ml/input/data/train/part-00005-825b9cb0-4804-4920-b43a-d603ba433067-c000.csv', '/opt/ml/input/data/train/part-00010-825b9cb0-4804-4920-b43a-d603ba433067-c000.csv', '/opt/ml/input/data/train/part-00006-825b9cb0-4804-4920-b43a-d603ba433067-c000.csv', '/opt/ml/input/data/train/part-00014-825b9cb0-4804-4920-b43a-d603ba433067-c000.csv', '/opt/ml/input/data/train/part-00002-825b9cb0-4804-4920-b43a-d603ba433067-c000.csv', '/opt/ml/input/data/train/part-00013-825b9cb0-4804-4920-b43a-d603ba433067-c000.csv', '/opt/ml/input/data/train/part-00025-825b9cb0-4804-4920-b43a-d603ba433067-c000.csv', '/opt/ml/input/data/train/part-00007-825b9cb0-4804-4920-b43a-d603ba433067-c000.csv', '/opt/ml/input/data/train/part-00021-825b9cb0-4804-4920-b43a-d603ba433067-c000.csv', '/opt/ml/input/data/train/part-00003-825b9cb0-4804-4920-b43a-d603ba433067-c000.csv', '/opt/ml/input/data/train/part-00009-825b9cb0-4804-4920-b43a-d603ba433067-c000.csv', '/opt/ml/input/data/train/part-00000-825b9cb0-4804-4920-b43a-d603ba433067-c000.csv', '/opt/ml/input/data/train/part-00023-825b9cb0-4804-4920-b43a-d603ba433067-c000.csv', '/opt/ml/input/data/train/part-00008-825b9cb0-4804-4920-b43a-d603ba433067-c000.csv', '/opt/ml/input/data/train/part-00017-825b9cb0-4804-4920-b43a-d603ba433067-c000.csv', '/opt/ml/input/data/train/part-00018-825b9cb0-4804-4920-b43a-d603ba433067-c000.csv', '/opt/ml/input/data/train/part-00016-825b9cb0-4804-4920-b43a-d603ba433067-c000.csv', '/opt/ml/input/data/train/part-00001-825b9cb0-4804-4920-b43a-d603ba433067-c000.csv', '/opt/ml/input/data/train/part-00015-825b9cb0-4804-4920-b43a-d603ba433067-c000.csv', '/opt/ml/input/data/train/part-00020-825b9cb0-4804-4920-b43a-d603ba433067-c000.csv', '/opt/ml/input/data/train/train_test.csv', '/opt/ml/input/data/train/part-00011-825b9cb0-4804-4920-b43a-d603ba433067-c000.csv', '/opt/ml/input/data/train/part-00012-825b9cb0-4804-4920-b43a-d603ba433067-c000.csv']\u001b[0m\n",
      "\u001b[34mva_files: ['/opt/ml/input/data/eval/test_test.csv']\u001b[0m\n",
      "\u001b[34mte_files: None\u001b[0m\n",
      "\u001b[34msagemaker mode building ...\u001b[0m\n",
      "\u001b[34m[2020-11-11 06:25:14.425 ip-10-2-88-75.ec2.internal:33 INFO json_config.py:90] Creating hook from json_config at /opt/ml/input/config/debughookconfig.json.\u001b[0m\n",
      "\u001b[34m[2020-11-11 06:25:14.426 ip-10-2-88-75.ec2.internal:33 INFO hook.py:193] tensorboard_dir has not been set for the hook. SMDebug will not be exporting tensorboard summaries.\u001b[0m\n",
      "\u001b[34m[2020-11-11 06:25:14.426 ip-10-2-88-75.ec2.internal:33 INFO hook.py:238] Saving to /opt/ml/output/tensors\u001b[0m\n",
      "\u001b[34m[2020-11-11 06:25:14.426 ip-10-2-88-75.ec2.internal:33 INFO state_store.py:67] The checkpoint config file /opt/ml/input/config/checkpointconfig.json does not exist.\u001b[0m\n",
      "\u001b[34m[2020-11-11 06:25:18.941 ip-10-2-88-75.ec2.internal:33 WARNING collection.py:91] Could not add IndexedSlices(indices=Tensor(\"train/gradients/concat_1:0\", shape=(63488,), dtype=int32), values=Tensor(\"train/gradients/concat:0\", shape=(63488, 300), dtype=float32), dense_shape=Tensor(\"train/gradients/DKN/attention_net/kcnn/embedding_lookup_3_grad/Cast:0\", shape=(2,), dtype=int32)) of type <class 'tensorflow.python.framework.indexed_slices.IndexedSlices'> to collection gradients.Add can only take tf.Operation, tf.Variable, tf.Tensor, tf.MirroredVariable and list or set of any of the above.\u001b[0m\n",
      "\u001b[34m[2020-11-11 06:25:20.544 ip-10-2-88-75.ec2.internal:33 INFO hook.py:398] Monitoring the collections: sm_metrics, metrics, losses\u001b[0m\n"
     ]
    },
    {
     "name": "stdout",
     "output_type": "stream",
     "text": [
      "\u001b[34mfinish train, start eval\u001b[0m\n",
      "\u001b[34m[2020-11-11 06:30:18.485 ip-10-2-88-75.ec2.internal:33 WARNING collection.py:91] Could not add IndexedSlices(indices=Tensor(\"train/gradients/concat_1:0\", shape=(63488,), dtype=int32), values=Tensor(\"train/gradients/concat:0\", shape=(63488, 300), dtype=float32), dense_shape=Tensor(\"train/gradients/DKN/attention_net/kcnn/embedding_lookup_3_grad/Cast:0\", shape=(2,), dtype=int32)) of type <class 'tensorflow.python.framework.indexed_slices.IndexedSlices'> to collection gradients.Add can only take tf.Operation, tf.Variable, tf.Tensor, tf.MirroredVariable and list or set of any of the above.\u001b[0m\n",
      "\u001b[34m[2020-11-11 06:30:18.850 ip-10-2-88-75.ec2.internal:33 INFO hook.py:398] Monitoring the collections: sm_metrics, metrics, losses\u001b[0m\n",
      "\u001b[34msagemaker mode epoch 1 test_auc is 1.0000\u001b[0m\n",
      "\u001b[34mfinish saving model!\u001b[0m\n",
      "\u001b[34m2020-11-11 06:30:23,877 sagemaker-training-toolkit INFO     Reporting training SUCCESS\u001b[0m\n",
      "\n",
      "2020-11-11 06:30:40 Uploading - Uploading generated training model\n",
      "2020-11-11 06:30:40 Completed - Training job completed\n",
      "Training seconds: 432\n",
      "Billable seconds: 432\n"
     ]
    }
   ],
   "source": [
    "local_estimator.fit(inputs)"
   ]
  },
  {
   "cell_type": "code",
   "execution_count": 5,
   "metadata": {},
   "outputs": [
    {
     "name": "stdout",
     "output_type": "stream",
     "text": [
      "\n",
      "2020-11-11 06:30:40 Starting - Preparing the instances for training\n",
      "2020-11-11 06:30:40 Downloading - Downloading input data\n",
      "2020-11-11 06:30:40 Training - Training image download completed. Training in progress.\n",
      "2020-11-11 06:30:40 Uploading - Uploading generated training model\n",
      "2020-11-11 06:30:40 Completed - Training job completed\n",
      "CPU times: user 77.8 ms, sys: 0 ns, total: 77.8 ms\n",
      "Wall time: 1.16 s\n"
     ]
    }
   ],
   "source": [
    "%%time\n",
    "from sagemaker.estimator import Estimator\n",
    "\n",
    "# Attaching previous training session\n",
    "training_job_name = local_estimator.latest_training_job.name\n",
    "attached_estimator = Estimator.attach(training_job_name)"
   ]
  },
  {
   "cell_type": "code",
   "execution_count": null,
   "metadata": {},
   "outputs": [
    {
     "name": "stdout",
     "output_type": "stream",
     "text": [
      "---"
     ]
    }
   ],
   "source": [
    "deploy_estimator = attached_estimator.deploy(initial_instance_count = 1,\n",
    "                                          instance_type = 'ml.g4dn.xlarge')"
   ]
  },
  {
   "cell_type": "code",
   "execution_count": null,
   "metadata": {},
   "outputs": [
    {
     "name": "stdout",
     "output_type": "stream",
     "text": [
      "WARNING:tensorflow:From /home/ec2-user/anaconda3/envs/tensorflow_p36/lib/python3.6/site-packages/tensorflow_core/__init__.py:1473: The name tf.estimator.inputs is deprecated. Please use tf.compat.v1.estimator.inputs instead.\n",
      "\n",
      "WARNING:tensorflow:\n",
      "The TensorFlow contrib module will not be included in TensorFlow 2.0.\n",
      "For more information, please see:\n",
      "  * https://github.com/tensorflow/community/blob/master/rfcs/20180907-contrib-sunset.md\n",
      "  * https://github.com/tensorflow/addons\n",
      "  * https://github.com/tensorflow/io (for I/O related ops)\n",
      "If you depend on functionality not listed there, please file an issue.\n",
      "\n",
      "kg_file=None,user_clicks=None,FEATURE_COUNT=None,FIELD_COUNT=None,data_format=dkn,PAIR_NUM=None,DNN_FIELD_NUM=None,n_user=None,n_item=None,n_user_attr=None,n_item_attr=None,iterator_type=None,SUMMARIES_DIR=None,MODEL_DIR=None,wordEmb_file=None,entityEmb_file=None,contextEmb_file=None,news_feature_file=None,user_history_file=None,use_entity=True,use_context=True,doc_size=16,history_size=30,word_size=12600,entity_size=3987,entity_dim=128,entity_embedding_method=None,transform=True,train_ratio=None,dim=300,layer_sizes=[100],cross_layer_sizes=None,cross_layers=None,activation=['sigmoid'],cross_activation=identity,user_dropout=False,dropout=[0.0],attention_layer_sizes=100,attention_activation=relu,attention_dropout=0.0,model_type=dkn,method=classification,load_saved_model=False,load_model_name=None,filter_sizes=[1, 2],num_filters=100,mu=None,fast_CIN_d=0,use_Linear_part=False,use_FM_part=False,use_CIN_part=False,use_DNN_part=False,init_method=uniform,init_value=0.1,embed_l2=1e-05,embed_l1=0.0,layer_l2=3e-05,layer_l1=0.0,cross_l2=0.0,cross_l1=0.0,reg_kg=0.0,learning_rate=0.0005,lr_rs=1,lr_kg=0.5,kg_training_interval=5,max_grad_norm=2,is_clip_norm=0,dtype=32,loss=log_loss,optimizer=adam,epochs=50,batch_size=100,enable_BN=True,show_step=10000,save_model=False,save_epoch=2,metrics=['auc'],write_tfevents=False,item_embedding_dim=None,cate_embedding_dim=None,user_embedding_dim=None,train_num_ngs=4,need_sample=True,embedding_dropout=0.3,user_vocab=None,item_vocab=None,cate_vocab=None,pairwise_metrics=['group_auc', 'mean_mrr', 'ndcg@5;10'],EARLY_STOP=100,max_seq_length=None,hidden_size=None,L=None,T=None,n_v=None,n_h=None,min_seq_length=1,attention_size=None,att_fcn_layer_sizes=None,dilations=None,kernel_size=None,embed_size=None,n_layers=None,decay=None,eval_epoch=None,top_k=None\n",
      "check input params: \n",
      "['recsys_tools/recsys_kg/embed_dkn.py', '--learning_rate', '0.0001', '--loss_weight', '1.0', '--use_context', 'True', '--max_click_history', '30', '--num_epochs', '100', '--max_title_length', '16', '--entity_dim', '128', '--word_dim', '300', '--batch_size', '128', '--perform_shuffle', '1', '--data_dir', '/home/ec2-user/SageMaker/Aws-gcr-sc-recsys-kg', '--checkpointPath', '/home/ec2-user/SageMaker/Aws-gcr-sc-recsys-kg/temp/']\n",
      "task_type  train\n",
      "model_dir  \n",
      "checkpoint_dir  /home/ec2-user/SageMaker/Aws-gcr-sc-recsys-kg/temp/\n",
      "data_dir  /home/ec2-user/SageMaker/Aws-gcr-sc-recsys-kg\n",
      "dt_dir  20201028\n",
      "num_epochs  100\n",
      "batch_size  128\n",
      "loss_type  log_loss\n",
      "optimizer  Adam\n",
      "learning_rate  0.0001\n",
      "l2_reg  0.0001\n",
      "operate  no-script\n",
      "shuffle  1\n",
      "train dir is /home/ec2-user/SageMaker/Aws-gcr-sc-recsys-kg/train\n",
      "eval dir is /home/ec2-user/SageMaker/Aws-gcr-sc-recsys-kg/test\n",
      "tr_files: ['/home/ec2-user/SageMaker/Aws-gcr-sc-recsys-kg/train/part-00016-825b9cb0-4804-4920-b43a-d603ba433067-c000.csv', '/home/ec2-user/SageMaker/Aws-gcr-sc-recsys-kg/train/part-00022-825b9cb0-4804-4920-b43a-d603ba433067-c000.csv', '/home/ec2-user/SageMaker/Aws-gcr-sc-recsys-kg/train/part-00015-825b9cb0-4804-4920-b43a-d603ba433067-c000.csv', '/home/ec2-user/SageMaker/Aws-gcr-sc-recsys-kg/train/part-00018-825b9cb0-4804-4920-b43a-d603ba433067-c000.csv', '/home/ec2-user/SageMaker/Aws-gcr-sc-recsys-kg/train/part-00009-825b9cb0-4804-4920-b43a-d603ba433067-c000.csv', '/home/ec2-user/SageMaker/Aws-gcr-sc-recsys-kg/train/part-00023-825b9cb0-4804-4920-b43a-d603ba433067-c000.csv', '/home/ec2-user/SageMaker/Aws-gcr-sc-recsys-kg/train/part-00013-825b9cb0-4804-4920-b43a-d603ba433067-c000.csv', '/home/ec2-user/SageMaker/Aws-gcr-sc-recsys-kg/train/part-00019-825b9cb0-4804-4920-b43a-d603ba433067-c000.csv', '/home/ec2-user/SageMaker/Aws-gcr-sc-recsys-kg/train/part-00014-825b9cb0-4804-4920-b43a-d603ba433067-c000.csv', '/home/ec2-user/SageMaker/Aws-gcr-sc-recsys-kg/train/part-00006-825b9cb0-4804-4920-b43a-d603ba433067-c000.csv', '/home/ec2-user/SageMaker/Aws-gcr-sc-recsys-kg/train/part-00005-825b9cb0-4804-4920-b43a-d603ba433067-c000.csv', '/home/ec2-user/SageMaker/Aws-gcr-sc-recsys-kg/train/part-00002-825b9cb0-4804-4920-b43a-d603ba433067-c000.csv', '/home/ec2-user/SageMaker/Aws-gcr-sc-recsys-kg/train/part-00012-825b9cb0-4804-4920-b43a-d603ba433067-c000.csv', '/home/ec2-user/SageMaker/Aws-gcr-sc-recsys-kg/train/part-00011-825b9cb0-4804-4920-b43a-d603ba433067-c000.csv', '/home/ec2-user/SageMaker/Aws-gcr-sc-recsys-kg/train/part-00000-825b9cb0-4804-4920-b43a-d603ba433067-c000.csv', '/home/ec2-user/SageMaker/Aws-gcr-sc-recsys-kg/train/part-00021-825b9cb0-4804-4920-b43a-d603ba433067-c000.csv', '/home/ec2-user/SageMaker/Aws-gcr-sc-recsys-kg/train/part-00008-825b9cb0-4804-4920-b43a-d603ba433067-c000.csv', '/home/ec2-user/SageMaker/Aws-gcr-sc-recsys-kg/train/part-00001-825b9cb0-4804-4920-b43a-d603ba433067-c000.csv', '/home/ec2-user/SageMaker/Aws-gcr-sc-recsys-kg/train/part-00007-825b9cb0-4804-4920-b43a-d603ba433067-c000.csv', '/home/ec2-user/SageMaker/Aws-gcr-sc-recsys-kg/train/part-00004-825b9cb0-4804-4920-b43a-d603ba433067-c000.csv', '/home/ec2-user/SageMaker/Aws-gcr-sc-recsys-kg/train/part-00024-825b9cb0-4804-4920-b43a-d603ba433067-c000.csv', '/home/ec2-user/SageMaker/Aws-gcr-sc-recsys-kg/train/part-00003-825b9cb0-4804-4920-b43a-d603ba433067-c000.csv', '/home/ec2-user/SageMaker/Aws-gcr-sc-recsys-kg/train/part-00017-825b9cb0-4804-4920-b43a-d603ba433067-c000.csv', '/home/ec2-user/SageMaker/Aws-gcr-sc-recsys-kg/train/part-00020-825b9cb0-4804-4920-b43a-d603ba433067-c000.csv', '/home/ec2-user/SageMaker/Aws-gcr-sc-recsys-kg/train/part-00025-825b9cb0-4804-4920-b43a-d603ba433067-c000.csv', '/home/ec2-user/SageMaker/Aws-gcr-sc-recsys-kg/train/part-00010-825b9cb0-4804-4920-b43a-d603ba433067-c000.csv']\n",
      "va_files: ['/home/ec2-user/SageMaker/Aws-gcr-sc-recsys-kg/test/part-00023-0bfa21fb-25b6-40f9-b86e-06bf9dd7d064-c000.csv', '/home/ec2-user/SageMaker/Aws-gcr-sc-recsys-kg/test/part-00007-0bfa21fb-25b6-40f9-b86e-06bf9dd7d064-c000.csv', '/home/ec2-user/SageMaker/Aws-gcr-sc-recsys-kg/test/part-00018-0bfa21fb-25b6-40f9-b86e-06bf9dd7d064-c000.csv', '/home/ec2-user/SageMaker/Aws-gcr-sc-recsys-kg/test/part-00011-0bfa21fb-25b6-40f9-b86e-06bf9dd7d064-c000.csv', '/home/ec2-user/SageMaker/Aws-gcr-sc-recsys-kg/test/part-00000-0bfa21fb-25b6-40f9-b86e-06bf9dd7d064-c000.csv', '/home/ec2-user/SageMaker/Aws-gcr-sc-recsys-kg/test/part-00001-0bfa21fb-25b6-40f9-b86e-06bf9dd7d064-c000.csv', '/home/ec2-user/SageMaker/Aws-gcr-sc-recsys-kg/test/part-00019-0bfa21fb-25b6-40f9-b86e-06bf9dd7d064-c000.csv', '/home/ec2-user/SageMaker/Aws-gcr-sc-recsys-kg/test/part-00016-0bfa21fb-25b6-40f9-b86e-06bf9dd7d064-c000.csv', '/home/ec2-user/SageMaker/Aws-gcr-sc-recsys-kg/test/part-00022-0bfa21fb-25b6-40f9-b86e-06bf9dd7d064-c000.csv', '/home/ec2-user/SageMaker/Aws-gcr-sc-recsys-kg/test/part-00021-0bfa21fb-25b6-40f9-b86e-06bf9dd7d064-c000.csv', '/home/ec2-user/SageMaker/Aws-gcr-sc-recsys-kg/test/part-00010-0bfa21fb-25b6-40f9-b86e-06bf9dd7d064-c000.csv', '/home/ec2-user/SageMaker/Aws-gcr-sc-recsys-kg/test/part-00017-0bfa21fb-25b6-40f9-b86e-06bf9dd7d064-c000.csv', '/home/ec2-user/SageMaker/Aws-gcr-sc-recsys-kg/test/part-00013-0bfa21fb-25b6-40f9-b86e-06bf9dd7d064-c000.csv', '/home/ec2-user/SageMaker/Aws-gcr-sc-recsys-kg/test/part-00015-0bfa21fb-25b6-40f9-b86e-06bf9dd7d064-c000.csv', '/home/ec2-user/SageMaker/Aws-gcr-sc-recsys-kg/test/part-00025-0bfa21fb-25b6-40f9-b86e-06bf9dd7d064-c000.csv', '/home/ec2-user/SageMaker/Aws-gcr-sc-recsys-kg/test/part-00020-0bfa21fb-25b6-40f9-b86e-06bf9dd7d064-c000.csv', '/home/ec2-user/SageMaker/Aws-gcr-sc-recsys-kg/test/part-00005-0bfa21fb-25b6-40f9-b86e-06bf9dd7d064-c000.csv', '/home/ec2-user/SageMaker/Aws-gcr-sc-recsys-kg/test/part-00024-0bfa21fb-25b6-40f9-b86e-06bf9dd7d064-c000.csv', '/home/ec2-user/SageMaker/Aws-gcr-sc-recsys-kg/test/part-00012-0bfa21fb-25b6-40f9-b86e-06bf9dd7d064-c000.csv', '/home/ec2-user/SageMaker/Aws-gcr-sc-recsys-kg/test/part-00009-0bfa21fb-25b6-40f9-b86e-06bf9dd7d064-c000.csv', '/home/ec2-user/SageMaker/Aws-gcr-sc-recsys-kg/test/part-00008-0bfa21fb-25b6-40f9-b86e-06bf9dd7d064-c000.csv', '/home/ec2-user/SageMaker/Aws-gcr-sc-recsys-kg/test/part-00006-0bfa21fb-25b6-40f9-b86e-06bf9dd7d064-c000.csv', '/home/ec2-user/SageMaker/Aws-gcr-sc-recsys-kg/test/part-00003-0bfa21fb-25b6-40f9-b86e-06bf9dd7d064-c000.csv', '/home/ec2-user/SageMaker/Aws-gcr-sc-recsys-kg/test/part-00004-0bfa21fb-25b6-40f9-b86e-06bf9dd7d064-c000.csv', '/home/ec2-user/SageMaker/Aws-gcr-sc-recsys-kg/test/part-00014-0bfa21fb-25b6-40f9-b86e-06bf9dd7d064-c000.csv', '/home/ec2-user/SageMaker/Aws-gcr-sc-recsys-kg/test/part-00002-0bfa21fb-25b6-40f9-b86e-06bf9dd7d064-c000.csv']\n",
      "te_files: None\n",
      "sagemaker mode building ...\n"
     ]
    }
   ],
   "source": [
    "!python recsys_tools/recsys_kg/embed_dkn.py --learning_rate 0.0001 --loss_weight 1.0 --max_click_history 8 --num_epochs 1 --use_entity False --use_context 0 --max_title_length 16 --entity_dim 128 --word_dim 300 --batch_size 128 --perform_shuffle 1 --data_dir /home/ec2-user/SageMaker/Aws-gcr-sc-recsys-kg --checkpointPath /home/ec2-user/SageMaker/Aws-gcr-sc-recsys-kg/temp/ --servable_model_dir /home/ec2-user/SageMaker/Aws-gcr-sc-recsys-kg/model_complete/ "
   ]
  },
  {
   "cell_type": "code",
   "execution_count": 31,
   "metadata": {},
   "outputs": [
    {
     "name": "stdout",
     "output_type": "stream",
     "text": [
      "WARNING:tensorflow:From /home/ec2-user/anaconda3/envs/tensorflow_p36/lib/python3.6/site-packages/tensorflow_core/__init__.py:1473: The name tf.estimator.inputs is deprecated. Please use tf.compat.v1.estimator.inputs instead.\n",
      "\n",
      "WARNING:tensorflow:From /home/ec2-user/anaconda3/envs/tensorflow_p36/lib/python3.6/site-packages/tensorflow_core/contrib/predictor/saved_model_predictor.py:153: load (from tensorflow.python.saved_model.loader_impl) is deprecated and will be removed in a future version.\n",
      "Instructions for updating:\n",
      "This function will only be available through the v1 compatibility library as tf.compat.v1.saved_model.loader.load or tf.compat.v1.saved_model.load. There will be a new function for importing SavedModels in Tensorflow 2.0.\n",
      "INFO:tensorflow:Restoring parameters from ./model/1609600437/variables/variables\n"
     ]
    }
   ],
   "source": [
    "import tensorflow as tf\n",
    "from tensorflow.contrib import predictor\n",
    "model_dir = './model/1609600437'\n",
    "predict_fn = predictor.from_saved_model(model_dir)"
   ]
  },
  {
   "cell_type": "code",
   "execution_count": 14,
   "metadata": {},
   "outputs": [],
   "source": [
    "import numpy as np\n",
    "entity_np = np.load('./model/numpy/entity_embeddings_TransE_128.npy')\n",
    "word_np = np.load('./model/numpy/word_embeddings_300.npy')"
   ]
  },
  {
   "cell_type": "code",
   "execution_count": 15,
   "metadata": {},
   "outputs": [
    {
     "data": {
      "text/plain": [
       "array([-0.2020931 ,  0.1533708 , -0.34466755, -0.16731852, -0.33922803,\n",
       "        0.34468642, -0.00683468,  0.23128523, -0.23649581,  0.15999392,\n",
       "       -0.47446892, -0.02624915,  0.27865964,  0.16012274, -0.02677188,\n",
       "       -0.08308349, -0.38095677,  0.10504837,  0.43542463, -0.0664952 ,\n",
       "       -0.2188656 , -0.13956097, -0.08526327, -0.37868163,  0.22345848,\n",
       "       -0.2603023 , -0.12122997, -0.11002816,  0.02859331,  0.02799121,\n",
       "        0.0743007 , -0.30830356, -0.12490641,  0.13112238, -0.25003704,\n",
       "        0.33532196,  0.1756906 , -0.13439284, -0.11589614,  0.43405366,\n",
       "       -0.27522883,  0.14798985, -0.03981137, -0.06814921, -0.0186094 ,\n",
       "        0.22967793,  0.13537551,  0.31671622,  0.29432687,  0.2636666 ,\n",
       "       -0.14677161, -0.17513487, -0.25765404, -0.16273454, -0.31023762,\n",
       "        0.09162396, -0.1975824 , -0.1205219 , -0.15929648, -0.27233434,\n",
       "       -0.19923842, -0.10601131, -0.10305705, -0.13301423, -0.05306292,\n",
       "       -0.2001513 ,  0.05207953,  0.03498718, -0.00760231,  0.16325757,\n",
       "        0.27739352,  0.24507548,  0.21916036, -0.21820685, -0.09481016,\n",
       "       -0.38869104, -0.01482812,  0.38455823, -0.24833961, -0.0601942 ,\n",
       "        0.24899797, -0.23149295,  0.16259725,  0.34946957,  0.11608362,\n",
       "       -0.1572304 , -0.11789426, -0.25159478, -0.20650016,  0.2300727 ,\n",
       "        0.05757824,  0.468019  , -0.01207739,  0.21893999, -0.05175615,\n",
       "        0.0669614 ,  0.43827966, -0.5884175 , -0.32389835,  0.2925897 ,\n",
       "       -0.02766122,  0.1952402 ,  0.03220031,  0.1708016 ,  0.01379886,\n",
       "       -0.45650253, -0.04042957, -0.01832599,  0.13375714, -0.55600023,\n",
       "        0.3637397 ,  0.32642186, -0.11563221, -0.3291996 , -0.28641123,\n",
       "       -0.05784239,  0.2025586 , -0.08557452, -0.17624325, -0.35968506,\n",
       "       -0.06677862, -0.24259879, -0.41392797,  0.14909655,  0.06087475,\n",
       "        0.03645805,  0.1589372 ,  0.33352876], dtype=float32)"
      ]
     },
     "execution_count": 15,
     "metadata": {},
     "output_type": "execute_result"
    }
   ],
   "source": [
    "entity_np[0]"
   ]
  },
  {
   "cell_type": "code",
   "execution_count": 46,
   "metadata": {},
   "outputs": [
    {
     "data": {
      "text/plain": [
       "array([[[-0.2020931 ,  0.1533708 , -0.34466755, ...,  0.03645805,\n",
       "          0.1589372 ,  0.33352876],\n",
       "        [ 0.23458116, -0.15034838,  0.5184384 , ...,  0.3896006 ,\n",
       "          0.04524809,  0.14536384],\n",
       "        [ 0.02685946,  0.20761265, -0.12986133, ..., -0.10391057,\n",
       "         -0.41985142,  0.00890081],\n",
       "        ...,\n",
       "        [ 0.29229215,  0.20079565, -0.16158006, ..., -0.10039704,\n",
       "         -0.1891493 , -0.14900859],\n",
       "        [-0.12687334, -0.22617958, -0.07094602, ..., -0.01912771,\n",
       "          0.39491394, -0.45555165],\n",
       "        [-0.07750091, -0.41496742,  0.36488408, ...,  0.232488  ,\n",
       "          0.29458538, -0.3590742 ]],\n",
       "\n",
       "       [[-0.2020931 ,  0.1533708 , -0.34466755, ...,  0.03645805,\n",
       "          0.1589372 ,  0.33352876],\n",
       "        [ 0.23458116, -0.15034838,  0.5184384 , ...,  0.3896006 ,\n",
       "          0.04524809,  0.14536384],\n",
       "        [ 0.02685946,  0.20761265, -0.12986133, ..., -0.10391057,\n",
       "         -0.41985142,  0.00890081],\n",
       "        ...,\n",
       "        [ 0.29229215,  0.20079565, -0.16158006, ..., -0.10039704,\n",
       "         -0.1891493 , -0.14900859],\n",
       "        [-0.12687334, -0.22617958, -0.07094602, ..., -0.01912771,\n",
       "          0.39491394, -0.45555165],\n",
       "        [-0.07750091, -0.41496742,  0.36488408, ...,  0.232488  ,\n",
       "          0.29458538, -0.3590742 ]]], dtype=float32)"
      ]
     },
     "execution_count": 46,
     "metadata": {},
     "output_type": "execute_result"
    }
   ],
   "source": [
    "index = [range(16),range(16)]\n",
    "hist_index = [range(16),range(16),range(16),range(16),range(16),range(16),range(16),range(16),range(16),range(16),range(16),range(16),range(16),range(16),range(16),range(16)]\n",
    "index_np = np.array(index)\n",
    "hist_index_np = np.array(hist_index)\n",
    "entity_np[index_np]"
   ]
  },
  {
   "cell_type": "code",
   "execution_count": 19,
   "metadata": {},
   "outputs": [
    {
     "name": "stdout",
     "output_type": "stream",
     "text": [
      "[0, 1, 2, 3, 4, 5, 6, 7, 8, 9, 10, 11, 12, 13, 14, 15]\n"
     ]
    }
   ],
   "source": [
    "print(batch[0][0])"
   ]
  },
  {
   "cell_type": "code",
   "execution_count": 11,
   "metadata": {},
   "outputs": [],
   "source": [
    "title = []\n",
    "for i in range(16):\n",
    "    title.append(i)\n",
    "hist = []\n",
    "for i in range(8):\n",
    "    hist.append(title)\n",
    "batch = []\n",
    "for i in range(4):\n",
    "    batch.append(hist)"
   ]
  },
  {
   "cell_type": "code",
   "execution_count": 38,
   "metadata": {},
   "outputs": [
    {
     "data": {
      "text/plain": [
       "list"
      ]
     },
     "execution_count": 38,
     "metadata": {},
     "output_type": "execute_result"
    }
   ],
   "source": [
    "raw_dict = {}\n",
    "raw_dict['raw_click_entities'] = list(np.ones((16), np.int8))\n",
    "raw_dict['raw_click_words'] = list(np.ones((16), np.int8))\n",
    "raw_dict['raw_news_entities'] = list(np.ones((16), np.int8))\n",
    "raw_dict['raw_news_words'] = list(np.ones((16), np.int8))\n",
    "type(raw_dict['raw_click_entities'])"
   ]
  },
  {
   "cell_type": "code",
   "execution_count": 33,
   "metadata": {},
   "outputs": [
    {
     "data": {
      "text/plain": [
       "array([[[[-0.2020931 ,  0.1533708 , -0.34466755, ...,  0.03645805,\n",
       "           0.1589372 ,  0.33352876],\n",
       "         [ 0.23458116, -0.15034838,  0.5184384 , ...,  0.3896006 ,\n",
       "           0.04524809,  0.14536384],\n",
       "         [ 0.02685946,  0.20761265, -0.12986133, ..., -0.10391057,\n",
       "          -0.41985142,  0.00890081],\n",
       "         ...,\n",
       "         [ 0.29229215,  0.20079565, -0.16158006, ..., -0.10039704,\n",
       "          -0.1891493 , -0.14900859],\n",
       "         [-0.12687334, -0.22617958, -0.07094602, ..., -0.01912771,\n",
       "           0.39491394, -0.45555165],\n",
       "         [-0.07750091, -0.41496742,  0.36488408, ...,  0.232488  ,\n",
       "           0.29458538, -0.3590742 ]]]], dtype=float32)"
      ]
     },
     "execution_count": 33,
     "metadata": {},
     "output_type": "execute_result"
    }
   ],
   "source": [
    "entity_np[index_np]"
   ]
  },
  {
   "cell_type": "code",
   "execution_count": 47,
   "metadata": {},
   "outputs": [],
   "source": [
    "input_dict = {}\n",
    "input_dict['click_entities'] = entity_np[hist_index_np]\n",
    "input_dict['click_words'] = word_np[hist_index_np]\n",
    "input_dict['news_entities'] = entity_np[index_np]\n",
    "input_dict['news_words'] = word_np[index_np]"
   ]
  },
  {
   "cell_type": "code",
   "execution_count": 48,
   "metadata": {},
   "outputs": [
    {
     "name": "stdout",
     "output_type": "stream",
     "text": [
      "{'prob': array([0.00965489, 0.00965489], dtype=float32)}\n"
     ]
    }
   ],
   "source": [
    "print(predict_fn(input_dict))"
   ]
  }
 ],
 "metadata": {
  "kernelspec": {
   "display_name": "Python [conda env:tensorflow_p36]",
   "language": "python",
   "name": "conda-env-tensorflow_p36-py"
  }
 },
 "nbformat": 4,
 "nbformat_minor": 4
}
